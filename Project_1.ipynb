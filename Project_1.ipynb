{
 "cells": [
  {
   "cell_type": "markdown",
   "metadata": {},
   "source": [
    "for improved readability of the Notebook, use [Markdown Cheat Sheet](https://gtribello.github.io/mathNET/assets/notebook-writing.html) and [Unofficial Jupyter Extensions](https://jupyter-contrib-nbextensions.readthedocs.io/en/latest/index.html)"
   ]
  },
  {
   "cell_type": "markdown",
   "metadata": {
    "heading_collapsed": true
   },
   "source": [
    "# Imports and Installations"
   ]
  },
  {
   "cell_type": "code",
   "execution_count": 1,
   "metadata": {
    "hidden": true
   },
   "outputs": [],
   "source": [
    "import os\n",
    "import csv\n",
    "import numpy as np\n",
    "import pandas as pd\n",
    "import matplotlib as mpl\n",
    "import matplotlib.pyplot as plt\n",
    "import matplotlib.pyplot as plt\n",
    "import seaborn as sns\n",
    "#import custom_functions as func\n",
    "#import analysis_functions as afunc\n",
    "#import prep_data as prep\n",
    "#import plot_functions as plot"
   ]
  },
  {
   "cell_type": "markdown",
   "metadata": {
    "heading_collapsed": true
   },
   "source": [
    "# Custom Functions"
   ]
  },
  {
   "cell_type": "code",
   "execution_count": 2,
   "metadata": {
    "code_folding": [
     1
    ],
    "hidden": true,
    "scrolled": true
   },
   "outputs": [],
   "source": [
    "# get data as dataframe\n",
    "def read_csv():\n",
    "    df = pd.read_csv(\"C:/Users/Andrea/PycharmProjects/datascience/data/StackOverflow2020/survey_results_public.csv\")  # df with answers\n",
    "    schema = pd.read_csv(\"C:/Users/Andrea/PycharmProjects/datascience/data/StackOverflow2020/survey_results_schema.csv\")  # df with questions\n",
    "    return df, schema"
   ]
  },
  {
   "cell_type": "code",
   "execution_count": 3,
   "metadata": {
    "code_folding": [
     1
    ],
    "hidden": true
   },
   "outputs": [
    {
     "ename": "NameError",
     "evalue": "name 'schema' is not defined",
     "output_type": "error",
     "traceback": [
      "\u001b[1;31m---------------------------------------------------------------------------\u001b[0m",
      "\u001b[1;31mNameError\u001b[0m                                 Traceback (most recent call last)",
      "\u001b[1;32m<ipython-input-3-c41bd3d0b376>\u001b[0m in \u001b[0;36m<module>\u001b[1;34m\u001b[0m\n\u001b[0;32m      1\u001b[0m \u001b[1;31m# get description of a column (desc) as string by providing the column name (column_name)\u001b[0m\u001b[1;33m\u001b[0m\u001b[1;33m\u001b[0m\u001b[1;33m\u001b[0m\u001b[0m\n\u001b[1;32m----> 2\u001b[1;33m \u001b[1;32mdef\u001b[0m \u001b[0mget_description\u001b[0m\u001b[1;33m(\u001b[0m\u001b[0mcolumn_name\u001b[0m\u001b[1;33m,\u001b[0m \u001b[0mschema\u001b[0m\u001b[1;33m=\u001b[0m\u001b[0mschema\u001b[0m\u001b[1;33m)\u001b[0m\u001b[1;33m:\u001b[0m\u001b[1;33m\u001b[0m\u001b[1;33m\u001b[0m\u001b[0m\n\u001b[0m\u001b[0;32m      3\u001b[0m     \u001b[0mdesc\u001b[0m \u001b[1;33m=\u001b[0m \u001b[0mschema\u001b[0m\u001b[1;33m.\u001b[0m\u001b[0mset_index\u001b[0m\u001b[1;33m(\u001b[0m\u001b[1;34m'Column'\u001b[0m\u001b[1;33m)\u001b[0m\u001b[1;33m.\u001b[0m\u001b[0mloc\u001b[0m\u001b[1;33m[\u001b[0m\u001b[1;34mf'{column_name}'\u001b[0m\u001b[1;33m]\u001b[0m\u001b[1;33m[\u001b[0m\u001b[1;34m'QuestionText'\u001b[0m\u001b[1;33m]\u001b[0m\u001b[1;33m\u001b[0m\u001b[1;33m\u001b[0m\u001b[0m\n\u001b[0;32m      4\u001b[0m     \u001b[1;32mreturn\u001b[0m \u001b[0mdesc\u001b[0m\u001b[1;33m\u001b[0m\u001b[1;33m\u001b[0m\u001b[0m\n",
      "\u001b[1;31mNameError\u001b[0m: name 'schema' is not defined"
     ]
    }
   ],
   "source": [
    "# get description of a column (desc) as string by providing the column name (column_name)\n",
    "def get_description(column_name, schema=schema):\n",
    "    desc = schema.set_index('Column').loc[f'{column_name}']['QuestionText']\n",
    "    return desc"
   ]
  },
  {
   "cell_type": "code",
   "execution_count": null,
   "metadata": {
    "code_folding": [
     1
    ],
    "hidden": true
   },
   "outputs": [],
   "source": [
    "# get the percentage of NaN values (perc_nan) and the number of columns with more than x percent of values missing (perc_nan_over_x) in df\n",
    "def get_nan_perc(df, threshold):\n",
    "    # columns with corresponding percentage of nan values\n",
    "    perc_nan = df.isnull().sum()/len(df)\n",
    "    # columns with more than x percent of nan values\n",
    "    perc_nan_over_x = (df.isnull().sum()/len(df)) > threshold\n",
    "    # number of columns\n",
    "    number_over_x = np.sum(perc_nan > threshold)\n",
    "    return perc_nan, perc_nan_over_x, number_over_x"
   ]
  },
  {
   "cell_type": "code",
   "execution_count": null,
   "metadata": {
    "code_folding": [
     1
    ],
    "hidden": true
   },
   "outputs": [],
   "source": [
    "# drop all missing values from a given subset or target column\n",
    "def dropna_subset(df, subset):\n",
    "    df = df.dropna(subset=[subset]).copy(deep=True)\n",
    "    return df"
   ]
  },
  {
   "cell_type": "code",
   "execution_count": null,
   "metadata": {
    "code_folding": [
     0
    ],
    "hidden": true
   },
   "outputs": [],
   "source": [
    "def feature_overview(df, feature_column, dropna=False):\n",
    "    val_counts = df[feature_column].value_counts(dropna=dropna)\n",
    "    overview_df = pd.DataFrame({'count': val_counts, 'share': val_counts / val_counts.sum()})\n",
    "    return overview_df"
   ]
  },
  {
   "cell_type": "code",
   "execution_count": null,
   "metadata": {
    "code_folding": [
     0
    ],
    "hidden": true
   },
   "outputs": [],
   "source": [
    "def feature_by_x(df, feature, x_column):\n",
    "    # get feature counts per x_column & unstack multi-index\n",
    "    counts = df.groupby(x_column)[feature].value_counts().unstack(level=0)\n",
    "    # get feature percentages per x_column & unstack multi-index (get x by feature dataframe)\n",
    "    shares = counts.apply(lambda x: x/x.sum())\n",
    "    return counts, shares"
   ]
  },
  {
   "cell_type": "code",
   "execution_count": null,
   "metadata": {
    "code_folding": [
     0,
     1,
     24,
     36
    ],
    "hidden": true
   },
   "outputs": [],
   "source": [
    "def get_multiple_choice_answers():\n",
    "    DevTypeAnswers = [\"Academic researcher\",\n",
    "                    \"Data or business analyst\",\n",
    "                    \"Data scientist or machine learning specialist\",\n",
    "                    \"Database administrator\",\n",
    "                    \"Designer\",\n",
    "                    \"Developer, back-end\",\n",
    "                    \"Developer, desktop or enterprise applications\",\n",
    "                    \"Developer, embedded applications or devices\",\n",
    "                    \"Developer, front-end\",\n",
    "                    \"Developer, full-stack\",\n",
    "                    \"Developer, game or graphics\",\n",
    "                    \"Developer, mobile\",\n",
    "                    \"Developer, QA or test\",\n",
    "                    \"DevOps specialist\",\n",
    "                    \"Educator\",\n",
    "                    \"Engineer, data\",\n",
    "                    \"Engineer, site reliability\",\n",
    "                    \"Engineering manager\",\n",
    "                    \"Marketing or sales professional\",\n",
    "                    \"Product manager\",\n",
    "                    \"Scientist\",\n",
    "                    \"Senior Executive (C-Suite, VP, etc.)\",\n",
    "                    \"System administrator\"]\n",
    "    NEWJobHuntAnswers = ['Just because',\n",
    "                        'Having a bad day (or week or month) at work',\n",
    "                        'Wanting to share accomplishments with a wider network',\n",
    "                        'Curious about other opportunities',\n",
    "                        'Better compensation',\n",
    "                        'Trouble with my teammates',\n",
    "                        'Trouble with my direct manager',\n",
    "                        'Trouble with leadership at my company',\n",
    "                        'Better work/life balance',\n",
    "                        'Wanting to work with new technologies',\n",
    "                        'Growth or leadership opportunities',\n",
    "                        'Looking to relocate']\n",
    "    JobFactorsAnswers = ['Remote work options',\n",
    "                        'Office environment or company culture',\n",
    "                        'Financial performance or funding status of the company or organization',\n",
    "                        'Opportunities for professional development',\n",
    "                        'Diversity of the company or organization',\n",
    "                        'How widely used or impactful my work output would be',\n",
    "                        'Industry that I’d be working in',\n",
    "                        'Specific department or team I’d be working on',\n",
    "                        'Flex time or a flexible schedule',\n",
    "                        'Languages, frameworks, and other technologies I’d be working with',\n",
    "                        'Family friendliness']\n",
    "    return DevTypeAnswers, NEWJobHuntAnswers, JobFactorsAnswers"
   ]
  },
  {
   "cell_type": "code",
   "execution_count": null,
   "metadata": {
    "code_folding": [
     0,
     1
    ],
    "hidden": true
   },
   "outputs": [],
   "source": [
    "def dummy_multiple_choice(df, column, answer_list):\n",
    "    for x in answer_list:\n",
    "        sername = column + '_' + str(answer_list.index(x))\n",
    "        ser = df[column].str.contains(x).rename(sername).to_frame()*1\n",
    "        df = pd.concat([df, ser], axis=1)\n",
    "    return df"
   ]
  },
  {
   "cell_type": "code",
   "execution_count": null,
   "metadata": {
    "code_folding": [
     0,
     3
    ],
    "hidden": true
   },
   "outputs": [],
   "source": [
    "def get_multiple_choice(df, column_regex, answerlist_mc):\n",
    "    df_mc = df.filter(regex=column_regex, axis=1).dropna().sum().rename('count')\n",
    "    share = df_mc / df.shape[0]\n",
    "    df_mc = pd.concat\\\n",
    "        ([df_mc, share.rename('share'), pd.Series(answerlist_mc, index=df_mc.index, name='answers')], axis=1)\\\n",
    "        .set_index('answers')\n",
    "    return df_mc"
   ]
  },
  {
   "cell_type": "code",
   "execution_count": null,
   "metadata": {
    "code_folding": [
     0
    ],
    "hidden": true
   },
   "outputs": [],
   "source": [
    "def new_happy_bins(df):\n",
    "    # make 3 new categories for categories column (excl. NaN)\n",
    "    df['Job_Satisfaction_bins'] = df['Job_Satisfaction'].replace({'Very satisfied': 'satisfied',\n",
    "                                              'Slightly satisfied': 'satisfied',\n",
    "                                              'Very dissatisfied': 'dissatisfied',\n",
    "                                              'Slightly dissatisfied': 'dissatisfied',\n",
    "                                              'Neither satisfied nor dissatisfied': 'neither'})\n",
    "    happy_index = ['Very satisfied', 'Slightly satisfied', 'Neither satisfied nor dissatisfied',\n",
    "                   'Slightly dissatisfied', 'Very dissatisfied', 'not answered']\n",
    "    happy_index_bins = ['satisfied', 'dissatisfied', 'neither']\n",
    "    return df, happy_index, happy_index_bins"
   ]
  },
  {
   "cell_type": "markdown",
   "metadata": {
    "heading_collapsed": true
   },
   "source": [
    "# Plot Functions"
   ]
  },
  {
   "cell_type": "code",
   "execution_count": null,
   "metadata": {
    "code_folding": [
     1
    ],
    "hidden": true
   },
   "outputs": [],
   "source": [
    "# draws a pie chart and saves it as PNG\n",
    "def pie_chart(df, column, title='pie_chart', filename='pie_chart', colors=['#3EA607', '#5F9343', '#868686', '#93435F', '#A6073E']):\n",
    "    series = df[column].dropna()\n",
    "    pie, ax = plt.subplots(figsize=(10,4))\n",
    "    plt.pie(x=series, autopct=\"%1.1f%%\", explode= [0.02]*series.shape[0], labels=series.keys(), colors=colors)\n",
    "    plt.title(title, fontsize=12)\n",
    "    plt.tight_layout()\n",
    "    pie.savefig(f\"results/{filename}.png\")\n",
    "    return pie, ax"
   ]
  },
  {
   "cell_type": "code",
   "execution_count": null,
   "metadata": {
    "code_folding": [
     1
    ],
    "hidden": true
   },
   "outputs": [],
   "source": [
    "# draws a horizontal bar chart and saves it as PNG\n",
    "def horizontal_bars(df, column, percentage=True, xlabel='', title='bar_plot', filename='bar_plot'):\n",
    "    # sort descending by column value\n",
    "    df = df.sort_values(column, ascending=False)\n",
    "    if percentage == True:\n",
    "        df = df*100\n",
    "    # plot\n",
    "    bar, ax = plt.subplots(figsize=(10,4))\n",
    "    # ax.xaxis.grid(True, linestyle='--', linewidth=.7, color='#B7B7B7')\n",
    "    # ax.xaxis.set_minor_locator(mpl.ticker.AutoMinorLocator())\n",
    "    bars = ax.barh(df.index, width=df[column], height=0.9, align='center', color='#739D81')\n",
    "    for b in bars:\n",
    "        height = b.get_height()\n",
    "        width = b.get_width()\n",
    "        position = b.get_y()\n",
    "        ax.annotate('{}'.format(round(width, 1)), xy=(width/2, height/2 + position), va='center', fontsize=8)\n",
    "    ax.set_yticklabels(df.index, fontsize=8)\n",
    "    ax.invert_yaxis()  # labels read top-to-bottom\n",
    "    ax.set_xlabel(xlabel, fontsize=8)\n",
    "    ax.set_title(title, fontsize=12)\n",
    "    plt.tight_layout()\n",
    "    bar.savefig(f\"results/{filename}.png\")\n",
    "    return bar, ax"
   ]
  },
  {
   "cell_type": "code",
   "execution_count": null,
   "metadata": {
    "code_folding": [
     1
    ],
    "hidden": true
   },
   "outputs": [],
   "source": [
    "# horizontal bar chart for a GroupBy DataFrame\n",
    "def horizontal_bars_df(df, percentage=True, xlabel='', title='bar_plot', color=['#A26B61', '#6198A2'], filename='bar_plot'):\n",
    "    # sort descending by column value\n",
    "    if percentage == True:\n",
    "        df = df*100\n",
    "    # plot\n",
    "    bar, ax = plt.subplots(figsize=(10,4))\n",
    "    ax.xaxis.grid(True, linestyle='--', linewidth=.7, color='#B7B7B7')\n",
    "    # ax.xaxis.set_minor_locator(mpl.ticker.AutoMinorLocator())\n",
    "    cols = list(df.columns)\n",
    "    for c, clr in zip(cols, color):\n",
    "        bars = ax.barh(y=df.index, width=df[c], height=0.9/len(cols), align='center', color=clr, label=c)\n",
    "        for b in bars:\n",
    "            height = b.get_height()\n",
    "            width = b.get_width()\n",
    "            position = b.get_y()\n",
    "            if width > 0:\n",
    "                ax.annotate('{}'.format(round(width, 1)), xy=(width+.05, height/2+position), va='center', fontsize=8)\n",
    "            if width <= 0:\n",
    "                ax.annotate('{}'.format(round(width, 1)), xy=(width-.15, height/2+position), va='center', fontsize=8)\n",
    "    ax.set_yticklabels(df.index, fontsize=8)\n",
    "    ax.invert_yaxis()  # labels read top-to-bottom\n",
    "    ax.set_xlabel(xlabel, fontsize=8)\n",
    "    ax.set_title(title, fontsize=12)\n",
    "    plt.legend()\n",
    "    plt.tight_layout()\n",
    "    bar.savefig(f\"results/{filename}.png\")\n",
    "    return bar, ax"
   ]
  },
  {
   "cell_type": "code",
   "execution_count": null,
   "metadata": {
    "code_folding": [
     1
    ],
    "hidden": true
   },
   "outputs": [],
   "source": [
    "# horizontal bar chart for a GroupBy DataFrame\n",
    "def horizontal_bars_df_multi(df, title='', color=['#6198A2','#A26B61'], filename='bar_plot', percentage=True):\n",
    "    if percentage == True:\n",
    "        df = df*100\n",
    "    ax = df.plot.barh(title=title, grid=True, color=color, figsize=(10,4))\n",
    "    fig = ax.get_figure()\n",
    "    plt.tight_layout()\n",
    "    fig.savefig(f\"results/{filename}.png\")\n",
    "    return fig, ax"
   ]
  },
  {
   "cell_type": "markdown",
   "metadata": {
    "heading_collapsed": true
   },
   "source": [
    "# Load & View Data"
   ]
  },
  {
   "cell_type": "code",
   "execution_count": null,
   "metadata": {
    "hidden": true
   },
   "outputs": [],
   "source": [
    "df_raw, schema = func.read_csv()\n",
    "df = df_raw.copy(deep=True)\n",
    "df.head()"
   ]
  },
  {
   "cell_type": "code",
   "execution_count": null,
   "metadata": {
    "hidden": true
   },
   "outputs": [],
   "source": [
    "#### get an overview of the dataframe ####\n",
    "# get column descriptions (respective survey questions)\n",
    "survey_question = get_description('MainBranch')\n",
    "# get dataframe dimensions\n",
    "shape = df.shape\n",
    "# overview over nan values\n",
    "perc_nan, perc_nan_over_x, number_over_x = get_nan_perc(df, .5)"
   ]
  },
  {
   "cell_type": "markdown",
   "metadata": {
    "heading_collapsed": true
   },
   "source": [
    "# Data Preparation"
   ]
  },
  {
   "cell_type": "code",
   "execution_count": null,
   "metadata": {
    "hidden": true
   },
   "outputs": [],
   "source": [
    "#### rename colums of interest for better readability\n",
    "df = df.rename(columns={\"PurchaseWhat\": \"Influence_On_Purchases\", \"JobSat\": \"Job_Satisfaction\"})\n",
    "\n",
    "#### create salary bins (yearly salary in USD) below and above median salary\n",
    "df['Salary_Group'] = pd.cut(df['ConvertedComp'], bins=[0, df.ConvertedComp.median(), 2000000], labels=[\"below median\", \"above median\"])\n",
    "\n",
    "#### add dummies for multiple choice columns to extract number of individual mentions\n",
    "DevTypeAnswers, NEWJobHuntAnswers, JobFactorsAnswers = func.get_multiple_choice_answers()\n",
    "df = dummy_multiple_choice(df, 'DevType', DevTypeAnswers)\n",
    "df = dummy_multiple_choice(df, 'NEWJobHunt', NEWJobHuntAnswers)\n",
    "df = dummy_multiple_choice(df, 'JobFactors', JobFactorsAnswers)\n",
    "\n",
    "df_full = df.copy(deep=True)\n",
    "#### drop all missing values from target column: \"job satisfaction\"\n",
    "df = prep.dropna_subset(df, 'Job_Satisfaction')\n",
    "# define a fixed index order for \"Job Satisfaction\"\n",
    "happy_index = ['Very satisfied', \n",
    "               'Slightly satisfied', \n",
    "               'Neither satisfied nor dissatisfied',\n",
    "               'Slightly dissatisfied', \n",
    "               'Very dissatisfied', \n",
    "               'not answered']"
   ]
  },
  {
   "cell_type": "markdown",
   "metadata": {
    "heading_collapsed": true
   },
   "source": [
    "# Data Analysis"
   ]
  },
  {
   "attachments": {},
   "cell_type": "markdown",
   "metadata": {
    "heading_collapsed": true,
    "hidden": true
   },
   "source": [
    "#### How satisfied are developers with their current jobs?"
   ]
  },
  {
   "cell_type": "code",
   "execution_count": null,
   "metadata": {
    "hidden": true
   },
   "outputs": [],
   "source": [
    "#### How satisfied are developers with their current work?\n",
    "happy = feature_overview(df, 'Job_Satisfaction', dropna=True) # include only those who answered \n",
    "happy.index = happy.index.fillna(value='not answered')# rename nan values, if nans not dropped earlier\n",
    "happy = happy.reindex(happy_index) # sort rows\n",
    "\n",
    "happy"
   ]
  },
  {
   "cell_type": "code",
   "execution_count": null,
   "metadata": {
    "hidden": true
   },
   "outputs": [],
   "source": [
    "# plot the distribution as pie chart\n",
    "happy_pie, happy_ax = pie_chart(happy, 'share', \n",
    "                                title=f'Overall Job Satisfaction Among Currently Employed\\nStackoverflow 2020 Survey Participants', \n",
    "                                filename='satisfaction_pie', \n",
    "                                colors=['#3EA607', '#5F9343', '#868686', '#93435F', '#A6073E'])"
   ]
  },
  {
   "cell_type": "code",
   "execution_count": null,
   "metadata": {
    "hidden": true
   },
   "outputs": [],
   "source": [
    "#### which group of developers remain among participants if we exclude NaNs from \"Job Satisfaction\"?\n",
    "# Only those who are currently employed!\n",
    "feature_overview(df, 'Employment', dropna=True)"
   ]
  },
  {
   "cell_type": "code",
   "execution_count": null,
   "metadata": {
    "hidden": true
   },
   "outputs": [],
   "source": [
    "#### What type of job do they have?\n",
    "feature_overview(df, 'MainBranch', dropna=True)"
   ]
  },
  {
   "attachments": {},
   "cell_type": "markdown",
   "metadata": {
    "heading_collapsed": true,
    "hidden": true
   },
   "source": [
    "#### What are developers looking for in a job?"
   ]
  },
  {
   "cell_type": "code",
   "execution_count": null,
   "metadata": {
    "hidden": true
   },
   "outputs": [],
   "source": [
    "#### Although developers are mostly satisfied - are they open to new job opportunities in general?\n",
    "seek = feature_overview(df, 'JobSeek', dropna=True)\n",
    "# plot\n",
    "seek_pie, seek_ax = pie_chart(seek, 'share', \n",
    "                              title=f'What is Your Current Job-Seeking Status? (Among Developers Currently Employed)', \n",
    "                              filename='job_seek_pie', colors=['#597BB3', '#6459B3', '#9159B3'])"
   ]
  },
  {
   "cell_type": "code",
   "execution_count": null,
   "metadata": {
    "hidden": true
   },
   "outputs": [],
   "source": [
    "#### MOST IMPORTANT PUSH FACTORS: In general, what drives you to look for a new job?\n",
    "df_jobhunt = get_multiple_choice(df, 'NEWJobHunt_', NEWJobHuntAnswers)\n",
    "# plot\n",
    "jobhunt_bar, jobhunt_ax = plot.horizontal_bars(df_jobhunt, 'share', \n",
    "                                               percentage=True, \n",
    "                                               xlabel='Number of mentions in %', \n",
    "                                               title='What Drives You to Look for a New Job in General?\\n(Select All That Apply)', \n",
    "                                               filename='jobhunt_bar')"
   ]
  },
  {
   "cell_type": "code",
   "execution_count": null,
   "metadata": {
    "hidden": true
   },
   "outputs": [],
   "source": [
    "#### MOST IMPORTANT PULL FACTORS: Imagine that you are deciding between two job offers with the same\n",
    "#### compensation, benefits, and location. Of the following factors, which 3 are MOST important to you?\n",
    "df_factors = get_multiple_choice(df, 'JobFactors_', JobFactorsAnswers)\n",
    "# plot\n",
    "factors_bar, factors_ax = plot.horizontal_bars(df_factors, 'share', \n",
    "                                               percentage=True, \n",
    "                                               xlabel='Number of mentions in %', \n",
    "                                               title=f'What Are Your Most Important Factors in Deciding for a Job Offer?\\n(Apart from Salary, Location and Benefits - Select 3 Most Important)', \n",
    "                                               filename='factors_bar')"
   ]
  },
  {
   "attachments": {},
   "cell_type": "markdown",
   "metadata": {
    "heading_collapsed": true,
    "hidden": true
   },
   "source": [
    "#### Does more responsibility and participation in decision-making processes correlate with a higher job satisfaction as a developer?"
   ]
  },
  {
   "cell_type": "code",
   "execution_count": null,
   "metadata": {
    "hidden": true
   },
   "outputs": [],
   "source": [
    "#### Job Satisfaction Comparison: Self-Employed vs. Employed (full-time or part-time)\n",
    "\n",
    "# filter row entries for employment status\n",
    "df_selfemp = df.loc[df.Employment == \"Independent contractor, freelancer, or self-employed\"]\n",
    "df_emp = df.loc[(df.Employment == \"Employed full-time\")|(df.Employment == \"Employed part-time\")]\n",
    "\n",
    "# get job satisfaction ratings for the two groups\n",
    "happy_selfemp = (feature_overview(df_selfemp, 'Job_Satisfaction', dropna=True)).add_prefix('selfemp_')\n",
    "happy_emp = (feature_overview(df_emp, 'Job_Satisfaction', dropna=True)).add_prefix('emp_')\n",
    "\n",
    "# compare groups to average job satisfaction\n",
    "df_employment = pd.concat([(happy_emp['emp_share'].sub(happy['share'], axis=0)).rename('employed'),\n",
    "                           (happy_selfemp['selfemp_share'].sub(happy['share'], axis=0)).rename('self-employed')],\n",
    "                          axis=1)\n",
    "\n",
    "df_employment"
   ]
  },
  {
   "cell_type": "code",
   "execution_count": null,
   "metadata": {
    "hidden": true
   },
   "outputs": [],
   "source": [
    "# plot\n",
    "fig, ax = horizontal_bars_df(df_employment.reindex(happy_index), \n",
    "                             title='Job Satisfaction Ratings by Employment Status in [%] Compared to Overall Job Satisfaction', \n",
    "                             color=['#CADDF6', '#2D78D9'], \n",
    "                             filename='happiness_by_employment', \n",
    "                             percentage=True)"
   ]
  },
  {
   "cell_type": "code",
   "execution_count": null,
   "metadata": {
    "hidden": true
   },
   "outputs": [],
   "source": [
    "#### Job Satisfaction Comparison - by Influence On Purchases (developer position)\n",
    "purchase_count, purchase_share = feature_by_x(df, 'Job_Satisfaction', 'Influence_On_Purchases')\n",
    "purchase_share = purchase_share[['I have a great deal of influence',\n",
    "                                 'I have some influence', \n",
    "                                 'I have little or no influence']].reindex(happy_index)\n",
    "purchase_share_diff = purchase_share.sub(happy['share'], axis=0)\n",
    "purchase_share_diff"
   ]
  },
  {
   "cell_type": "code",
   "execution_count": null,
   "metadata": {
    "hidden": true
   },
   "outputs": [],
   "source": [
    "# plot\n",
    "fig, ax = plot.horizontal_bars_df_multi(purchase_share_diff.reindex(happy_index).dropna(), \n",
    "                                        title='Job Satisfaction Ratings by Technical Decisionmaking Competency in [%]\\nCompared to Overall Job Satisfaction', \n",
    "                                        color=['#86CF3D', '#83A75E', '#808977'], \n",
    "                                        filename='happiness_by_purchase', \n",
    "                                        percentage=True)"
   ]
  },
  {
   "attachments": {},
   "cell_type": "markdown",
   "metadata": {
    "heading_collapsed": true,
    "hidden": true
   },
   "source": [
    "#### Does the type of development work have an impact on job satisfaction?"
   ]
  },
  {
   "cell_type": "code",
   "execution_count": null,
   "metadata": {
    "hidden": true
   },
   "outputs": [],
   "source": []
  },
  {
   "attachments": {},
   "cell_type": "markdown",
   "metadata": {
    "heading_collapsed": true,
    "hidden": true
   },
   "source": [
    "#### Are developers with a higher salary happier?"
   ]
  },
  {
   "cell_type": "code",
   "execution_count": null,
   "metadata": {
    "hidden": true
   },
   "outputs": [],
   "source": [
    "#### Job Satisfaction Comparison: salary groups below and above median salary\n",
    "sal_count, sal_share = afunc.feature_by_x(df, 'Job_Satisfaction', 'Salary_Group')\n",
    "sal_share = sal_share.reindex(happy_index)\n",
    "sal_share_diff = sal_share.sub(happy['share'], axis=0)  # get diffs concerning overall satisfaction\n",
    "sal_share_diff.index = sal_share_diff.index.rename('Job Satisfaction')\n",
    "\n",
    "sal_share_diff"
   ]
  },
  {
   "cell_type": "code",
   "execution_count": null,
   "metadata": {
    "hidden": true
   },
   "outputs": [],
   "source": [
    "# plot\n",
    "fig, ax = plot.horizontal_bars_df(sal_share_diff.reindex(happy_index), \n",
    "                                  title='Job Satisfaction Ratings by Salary in [%] Compared to Overall Job Satisfaction', \n",
    "                                  color=['#C3E79E', '#86CF3D'], \n",
    "                                  filename='happiness_by_salary', \n",
    "                                  percentage=True)"
   ]
  }
 ],
 "metadata": {
  "kernelspec": {
   "display_name": "Python 3.8.3 32-bit",
   "language": "python",
   "name": "python38332bit9505451eb6424bef863e7b16377c3eb0"
  },
  "language_info": {
   "codemirror_mode": {
    "name": "ipython",
    "version": 3
   },
   "file_extension": ".py",
   "mimetype": "text/x-python",
   "name": "python",
   "nbconvert_exporter": "python",
   "pygments_lexer": "ipython3",
   "version": "3.8.3"
  }
 },
 "nbformat": 4,
 "nbformat_minor": 4
}
