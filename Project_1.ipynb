{
 "cells": [
  {
   "cell_type": "markdown",
   "metadata": {},
   "source": [
    "...done using [Markdown Cheat Sheet](https://gtribello.github.io/mathNET/assets/notebook-writing.html) and [Unofficial Jupyter Extensions](https://jupyter-contrib-nbextensions.readthedocs.io/en/latest/index.html)"
   ]
  },
  {
   "cell_type": "markdown",
   "metadata": {
    "heading_collapsed": true
   },
   "source": [
    "# Imports and Installations"
   ]
  },
  {
   "cell_type": "code",
   "execution_count": 1,
   "metadata": {
    "hidden": true
   },
   "outputs": [],
   "source": [
    "import os\n",
    "import csv\n",
    "import numpy as np\n",
    "import pandas as pd\n",
    "import matplotlib as mpl\n",
    "import matplotlib.pyplot as plt\n",
    "import matplotlib.pyplot as plt\n",
    "import seaborn as sns\n",
    "import custom_functions as func\n",
    "import analysis_functions as afunc\n",
    "import prep_data as prep\n",
    "import plot_functions as plot"
   ]
  },
  {
   "cell_type": "markdown",
   "metadata": {
    "heading_collapsed": true
   },
   "source": [
    "# Custom Functions"
   ]
  },
  {
   "cell_type": "code",
   "execution_count": 15,
   "metadata": {
    "code_folding": [
     1
    ],
    "hidden": true,
    "scrolled": true
   },
   "outputs": [],
   "source": [
    "# get data as dataframe\n",
    "def read_csv():\n",
    "    df = pd.read_csv(\"C:/Users/Andrea/PycharmProjects/datascience/data/StackOverflow2020/survey_results_public.csv\")  # df with answers\n",
    "    schema = pd.read_csv(\"C:/Users/Andrea/PycharmProjects/datascience/data/StackOverflow2020/survey_results_schema.csv\")  # df with questions\n",
    "    return df, schema"
   ]
  },
  {
   "cell_type": "code",
   "execution_count": 16,
   "metadata": {
    "code_folding": [
     1
    ],
    "hidden": true
   },
   "outputs": [],
   "source": [
    "# get description of a column (desc) as string by providing the column name (column_name)\n",
    "def get_description(column_name, schema=schema):\n",
    "    desc = schema.set_index('Column').loc[f'{column_name}']['QuestionText']\n",
    "    return desc"
   ]
  },
  {
   "cell_type": "code",
   "execution_count": 17,
   "metadata": {
    "code_folding": [
     1
    ],
    "hidden": true
   },
   "outputs": [],
   "source": [
    "# get the percentage of NaN values (perc_nan) and the number of columns with more than x percent of values missing (perc_nan_over_x) in df\n",
    "def get_nan_perc(df, threshold):\n",
    "    # columns with corresponding percentage of nan values\n",
    "    perc_nan = df.isnull().sum()/len(df)\n",
    "    # columns with more than x percent of nan values\n",
    "    perc_nan_over_x = (df.isnull().sum()/len(df)) > threshold\n",
    "    # number of columns\n",
    "    number_over_x = np.sum(perc_nan > threshold)\n",
    "    return perc_nan, perc_nan_over_x, number_over_x"
   ]
  },
  {
   "cell_type": "code",
   "execution_count": 18,
   "metadata": {
    "code_folding": [
     1
    ],
    "hidden": true
   },
   "outputs": [],
   "source": [
    "# drop all missing values from a given subset or target column\n",
    "def dropna_subset(df, subset):\n",
    "    df = df.dropna(subset=[subset]).copy(deep=True)\n",
    "    return df"
   ]
  },
  {
   "cell_type": "code",
   "execution_count": 19,
   "metadata": {
    "code_folding": [
     0
    ],
    "hidden": true
   },
   "outputs": [],
   "source": [
    "def feature_overview(df, feature_column, dropna=False):\n",
    "    val_counts = df[feature_column].value_counts(dropna=dropna)\n",
    "    overview_df = pd.DataFrame({'count': val_counts, 'share': val_counts / val_counts.sum()})\n",
    "    return overview_df"
   ]
  },
  {
   "cell_type": "code",
   "execution_count": 20,
   "metadata": {
    "code_folding": [
     0
    ],
    "hidden": true
   },
   "outputs": [],
   "source": [
    "def feature_by_x(df, feature, x_column):\n",
    "    # get feature counts per x_column & unstack multi-index\n",
    "    counts = df.groupby(x_column)[feature].value_counts().unstack(level=0)\n",
    "    # get feature percentages per x_column & unstack multi-index (get x by feature dataframe)\n",
    "    shares = counts.apply(lambda x: x/x.sum())\n",
    "    return counts, shares"
   ]
  },
  {
   "cell_type": "code",
   "execution_count": 21,
   "metadata": {
    "code_folding": [
     0,
     1,
     24,
     36
    ],
    "hidden": true
   },
   "outputs": [],
   "source": [
    "def get_multiple_choice_answers():\n",
    "    DevTypeAnswers = [\"Academic researcher\",\n",
    "                    \"Data or business analyst\",\n",
    "                    \"Data scientist or machine learning specialist\",\n",
    "                    \"Database administrator\",\n",
    "                    \"Designer\",\n",
    "                    \"Developer, back-end\",\n",
    "                    \"Developer, desktop or enterprise applications\",\n",
    "                    \"Developer, embedded applications or devices\",\n",
    "                    \"Developer, front-end\",\n",
    "                    \"Developer, full-stack\",\n",
    "                    \"Developer, game or graphics\",\n",
    "                    \"Developer, mobile\",\n",
    "                    \"Developer, QA or test\",\n",
    "                    \"DevOps specialist\",\n",
    "                    \"Educator\",\n",
    "                    \"Engineer, data\",\n",
    "                    \"Engineer, site reliability\",\n",
    "                    \"Engineering manager\",\n",
    "                    \"Marketing or sales professional\",\n",
    "                    \"Product manager\",\n",
    "                    \"Scientist\",\n",
    "                    \"Senior Executive (C-Suite, VP, etc.)\",\n",
    "                    \"System administrator\"]\n",
    "    NEWJobHuntAnswers = ['Just because',\n",
    "                        'Having a bad day (or week or month) at work',\n",
    "                        'Wanting to share accomplishments with a wider network',\n",
    "                        'Curious about other opportunities',\n",
    "                        'Better compensation',\n",
    "                        'Trouble with my teammates',\n",
    "                        'Trouble with my direct manager',\n",
    "                        'Trouble with leadership at my company',\n",
    "                        'Better work/life balance',\n",
    "                        'Wanting to work with new technologies',\n",
    "                        'Growth or leadership opportunities',\n",
    "                        'Looking to relocate']\n",
    "    JobFactorsAnswers = ['Remote work options',\n",
    "                        'Office environment or company culture',\n",
    "                        'Financial performance or funding status of the company or organization',\n",
    "                        'Opportunities for professional development',\n",
    "                        'Diversity of the company or organization',\n",
    "                        'How widely used or impactful my work output would be',\n",
    "                        'Industry that I’d be working in',\n",
    "                        'Specific department or team I’d be working on',\n",
    "                        'Flex time or a flexible schedule',\n",
    "                        'Languages, frameworks, and other technologies I’d be working with',\n",
    "                        'Family friendliness']\n",
    "    return DevTypeAnswers, NEWJobHuntAnswers, JobFactorsAnswers"
   ]
  },
  {
   "cell_type": "code",
   "execution_count": 22,
   "metadata": {
    "code_folding": [
     0,
     1
    ],
    "hidden": true
   },
   "outputs": [],
   "source": [
    "def dummy_multiple_choice(df, column, answer_list):\n",
    "    for x in answer_list:\n",
    "        sername = column + '_' + str(answer_list.index(x))\n",
    "        ser = df[column].str.contains(x).rename(sername).to_frame()*1\n",
    "        df = pd.concat([df, ser], axis=1)\n",
    "    return df"
   ]
  },
  {
   "cell_type": "code",
   "execution_count": 23,
   "metadata": {
    "code_folding": [
     0,
     3
    ],
    "hidden": true
   },
   "outputs": [],
   "source": [
    "def get_multiple_choice(df, column_regex, answerlist_mc):\n",
    "    df_mc = df.filter(regex=column_regex, axis=1).dropna().sum().rename('count')\n",
    "    share = df_mc / df.shape[0]\n",
    "    df_mc = pd.concat\\\n",
    "        ([df_mc, share.rename('share'), pd.Series(answerlist_mc, index=df_mc.index, name='answers')], axis=1)\\\n",
    "        .set_index('answers')\n",
    "    return df_mc"
   ]
  },
  {
   "cell_type": "code",
   "execution_count": 24,
   "metadata": {
    "code_folding": [
     0
    ],
    "hidden": true
   },
   "outputs": [],
   "source": [
    "def new_happy_bins(df):\n",
    "    # make 3 new categories for categories column (excl. NaN)\n",
    "    df['Job_Satisfaction_bins'] = df['Job_Satisfaction'].replace({'Very satisfied': 'satisfied',\n",
    "                                              'Slightly satisfied': 'satisfied',\n",
    "                                              'Very dissatisfied': 'dissatisfied',\n",
    "                                              'Slightly dissatisfied': 'dissatisfied',\n",
    "                                              'Neither satisfied nor dissatisfied': 'neither'})\n",
    "    happy_index = ['Very satisfied', 'Slightly satisfied', 'Neither satisfied nor dissatisfied',\n",
    "                   'Slightly dissatisfied', 'Very dissatisfied', 'not answered']\n",
    "    happy_index_bins = ['satisfied', 'dissatisfied', 'neither']\n",
    "    return df, happy_index, happy_index_bins"
   ]
  },
  {
   "cell_type": "markdown",
   "metadata": {
    "heading_collapsed": true
   },
   "source": [
    "# Load & View Data"
   ]
  },
  {
   "cell_type": "code",
   "execution_count": 26,
   "metadata": {
    "hidden": true
   },
   "outputs": [
    {
     "data": {
      "text/html": [
       "<div>\n",
       "<style scoped>\n",
       "    .dataframe tbody tr th:only-of-type {\n",
       "        vertical-align: middle;\n",
       "    }\n",
       "\n",
       "    .dataframe tbody tr th {\n",
       "        vertical-align: top;\n",
       "    }\n",
       "\n",
       "    .dataframe thead th {\n",
       "        text-align: right;\n",
       "    }\n",
       "</style>\n",
       "<table border=\"1\" class=\"dataframe\">\n",
       "  <thead>\n",
       "    <tr style=\"text-align: right;\">\n",
       "      <th></th>\n",
       "      <th>Respondent</th>\n",
       "      <th>MainBranch</th>\n",
       "      <th>Hobbyist</th>\n",
       "      <th>Age</th>\n",
       "      <th>Age1stCode</th>\n",
       "      <th>CompFreq</th>\n",
       "      <th>CompTotal</th>\n",
       "      <th>ConvertedComp</th>\n",
       "      <th>Country</th>\n",
       "      <th>CurrencyDesc</th>\n",
       "      <th>...</th>\n",
       "      <th>SurveyEase</th>\n",
       "      <th>SurveyLength</th>\n",
       "      <th>Trans</th>\n",
       "      <th>UndergradMajor</th>\n",
       "      <th>WebframeDesireNextYear</th>\n",
       "      <th>WebframeWorkedWith</th>\n",
       "      <th>WelcomeChange</th>\n",
       "      <th>WorkWeekHrs</th>\n",
       "      <th>YearsCode</th>\n",
       "      <th>YearsCodePro</th>\n",
       "    </tr>\n",
       "  </thead>\n",
       "  <tbody>\n",
       "    <tr>\n",
       "      <th>0</th>\n",
       "      <td>1</td>\n",
       "      <td>I am a developer by profession</td>\n",
       "      <td>Yes</td>\n",
       "      <td>NaN</td>\n",
       "      <td>13</td>\n",
       "      <td>Monthly</td>\n",
       "      <td>NaN</td>\n",
       "      <td>NaN</td>\n",
       "      <td>Germany</td>\n",
       "      <td>European Euro</td>\n",
       "      <td>...</td>\n",
       "      <td>Neither easy nor difficult</td>\n",
       "      <td>Appropriate in length</td>\n",
       "      <td>No</td>\n",
       "      <td>Computer science, computer engineering, or sof...</td>\n",
       "      <td>ASP.NET Core</td>\n",
       "      <td>ASP.NET;ASP.NET Core</td>\n",
       "      <td>Just as welcome now as I felt last year</td>\n",
       "      <td>50.0</td>\n",
       "      <td>36</td>\n",
       "      <td>27</td>\n",
       "    </tr>\n",
       "    <tr>\n",
       "      <th>1</th>\n",
       "      <td>2</td>\n",
       "      <td>I am a developer by profession</td>\n",
       "      <td>No</td>\n",
       "      <td>NaN</td>\n",
       "      <td>19</td>\n",
       "      <td>NaN</td>\n",
       "      <td>NaN</td>\n",
       "      <td>NaN</td>\n",
       "      <td>United Kingdom</td>\n",
       "      <td>Pound sterling</td>\n",
       "      <td>...</td>\n",
       "      <td>NaN</td>\n",
       "      <td>NaN</td>\n",
       "      <td>NaN</td>\n",
       "      <td>Computer science, computer engineering, or sof...</td>\n",
       "      <td>NaN</td>\n",
       "      <td>NaN</td>\n",
       "      <td>Somewhat more welcome now than last year</td>\n",
       "      <td>NaN</td>\n",
       "      <td>7</td>\n",
       "      <td>4</td>\n",
       "    </tr>\n",
       "    <tr>\n",
       "      <th>2</th>\n",
       "      <td>3</td>\n",
       "      <td>I code primarily as a hobby</td>\n",
       "      <td>Yes</td>\n",
       "      <td>NaN</td>\n",
       "      <td>15</td>\n",
       "      <td>NaN</td>\n",
       "      <td>NaN</td>\n",
       "      <td>NaN</td>\n",
       "      <td>Russian Federation</td>\n",
       "      <td>NaN</td>\n",
       "      <td>...</td>\n",
       "      <td>Neither easy nor difficult</td>\n",
       "      <td>Appropriate in length</td>\n",
       "      <td>NaN</td>\n",
       "      <td>NaN</td>\n",
       "      <td>NaN</td>\n",
       "      <td>NaN</td>\n",
       "      <td>Somewhat more welcome now than last year</td>\n",
       "      <td>NaN</td>\n",
       "      <td>4</td>\n",
       "      <td>NaN</td>\n",
       "    </tr>\n",
       "    <tr>\n",
       "      <th>3</th>\n",
       "      <td>4</td>\n",
       "      <td>I am a developer by profession</td>\n",
       "      <td>Yes</td>\n",
       "      <td>25.0</td>\n",
       "      <td>18</td>\n",
       "      <td>NaN</td>\n",
       "      <td>NaN</td>\n",
       "      <td>NaN</td>\n",
       "      <td>Albania</td>\n",
       "      <td>Albanian lek</td>\n",
       "      <td>...</td>\n",
       "      <td>NaN</td>\n",
       "      <td>NaN</td>\n",
       "      <td>No</td>\n",
       "      <td>Computer science, computer engineering, or sof...</td>\n",
       "      <td>NaN</td>\n",
       "      <td>NaN</td>\n",
       "      <td>Somewhat less welcome now than last year</td>\n",
       "      <td>40.0</td>\n",
       "      <td>7</td>\n",
       "      <td>4</td>\n",
       "    </tr>\n",
       "    <tr>\n",
       "      <th>4</th>\n",
       "      <td>5</td>\n",
       "      <td>I used to be a developer by profession, but no...</td>\n",
       "      <td>Yes</td>\n",
       "      <td>31.0</td>\n",
       "      <td>16</td>\n",
       "      <td>NaN</td>\n",
       "      <td>NaN</td>\n",
       "      <td>NaN</td>\n",
       "      <td>United States</td>\n",
       "      <td>NaN</td>\n",
       "      <td>...</td>\n",
       "      <td>Easy</td>\n",
       "      <td>Too short</td>\n",
       "      <td>No</td>\n",
       "      <td>Computer science, computer engineering, or sof...</td>\n",
       "      <td>Django;Ruby on Rails</td>\n",
       "      <td>Ruby on Rails</td>\n",
       "      <td>Just as welcome now as I felt last year</td>\n",
       "      <td>NaN</td>\n",
       "      <td>15</td>\n",
       "      <td>8</td>\n",
       "    </tr>\n",
       "  </tbody>\n",
       "</table>\n",
       "<p>5 rows × 61 columns</p>\n",
       "</div>"
      ],
      "text/plain": [
       "   Respondent                                         MainBranch Hobbyist  \\\n",
       "0           1                     I am a developer by profession      Yes   \n",
       "1           2                     I am a developer by profession       No   \n",
       "2           3                        I code primarily as a hobby      Yes   \n",
       "3           4                     I am a developer by profession      Yes   \n",
       "4           5  I used to be a developer by profession, but no...      Yes   \n",
       "\n",
       "    Age Age1stCode CompFreq  CompTotal  ConvertedComp             Country  \\\n",
       "0   NaN         13  Monthly        NaN            NaN             Germany   \n",
       "1   NaN         19      NaN        NaN            NaN      United Kingdom   \n",
       "2   NaN         15      NaN        NaN            NaN  Russian Federation   \n",
       "3  25.0         18      NaN        NaN            NaN             Albania   \n",
       "4  31.0         16      NaN        NaN            NaN       United States   \n",
       "\n",
       "     CurrencyDesc  ...                  SurveyEase           SurveyLength  \\\n",
       "0   European Euro  ...  Neither easy nor difficult  Appropriate in length   \n",
       "1  Pound sterling  ...                         NaN                    NaN   \n",
       "2             NaN  ...  Neither easy nor difficult  Appropriate in length   \n",
       "3    Albanian lek  ...                         NaN                    NaN   \n",
       "4             NaN  ...                        Easy              Too short   \n",
       "\n",
       "  Trans                                     UndergradMajor  \\\n",
       "0    No  Computer science, computer engineering, or sof...   \n",
       "1   NaN  Computer science, computer engineering, or sof...   \n",
       "2   NaN                                                NaN   \n",
       "3    No  Computer science, computer engineering, or sof...   \n",
       "4    No  Computer science, computer engineering, or sof...   \n",
       "\n",
       "  WebframeDesireNextYear    WebframeWorkedWith  \\\n",
       "0           ASP.NET Core  ASP.NET;ASP.NET Core   \n",
       "1                    NaN                   NaN   \n",
       "2                    NaN                   NaN   \n",
       "3                    NaN                   NaN   \n",
       "4   Django;Ruby on Rails         Ruby on Rails   \n",
       "\n",
       "                              WelcomeChange WorkWeekHrs YearsCode YearsCodePro  \n",
       "0   Just as welcome now as I felt last year        50.0        36           27  \n",
       "1  Somewhat more welcome now than last year         NaN         7            4  \n",
       "2  Somewhat more welcome now than last year         NaN         4          NaN  \n",
       "3  Somewhat less welcome now than last year        40.0         7            4  \n",
       "4   Just as welcome now as I felt last year         NaN        15            8  \n",
       "\n",
       "[5 rows x 61 columns]"
      ]
     },
     "execution_count": 26,
     "metadata": {},
     "output_type": "execute_result"
    }
   ],
   "source": [
    "df_raw, schema = func.read_csv()\n",
    "df = df_raw.copy(deep=True)\n",
    "df.head()"
   ]
  },
  {
   "cell_type": "code",
   "execution_count": 27,
   "metadata": {
    "hidden": true
   },
   "outputs": [],
   "source": [
    "#### get an overview of the dataframe ####\n",
    "# get column descriptions (respective survey questions)\n",
    "survey_question = get_description('MainBranch')\n",
    "# get dataframe dimensions\n",
    "shape = df.shape\n",
    "# overview over nan values\n",
    "perc_nan, perc_nan_over_x, number_over_x = get_nan_perc(df, .5)"
   ]
  },
  {
   "cell_type": "markdown",
   "metadata": {},
   "source": [
    "# Data Preparation"
   ]
  },
  {
   "cell_type": "code",
   "execution_count": 28,
   "metadata": {},
   "outputs": [
    {
     "name": "stderr",
     "output_type": "stream",
     "text": [
      "C:\\Users\\Andrea\\AppData\\Local\\Programs\\Python\\Python38-32\\lib\\site-packages\\pandas\\core\\strings.py:1954: UserWarning: This pattern has match groups. To actually get the groups, use str.extract.\n",
      "  return func(self, *args, **kwargs)\n"
     ]
    }
   ],
   "source": [
    "#### rename some colums for better readability later\n",
    "df = df.rename(columns={\"PurchaseWhat\": \"Influence_On_Purchases\", \"JobSat\": \"Job_Satisfaction\"})\n",
    "\n",
    "#### create salary bins (yearly salary in USD)\n",
    "df['Salary_Group'] = pd.cut(df['ConvertedComp'], bins=[0, df.ConvertedComp.median(), 2000000], labels=[\"below median\", \"above median\"])\n",
    "\n",
    "#### add dummies for multiple choice columns to extract number of individual mentions\n",
    "DevTypeAnswers, NEWJobHuntAnswers, JobFactorsAnswers = func.get_multiple_choice_answers()\n",
    "df = dummy_multiple_choice(df, 'DevType', DevTypeAnswers)\n",
    "df = dummy_multiple_choice(df, 'NEWJobHunt', NEWJobHuntAnswers)\n",
    "df = dummy_multiple_choice(df, 'JobFactors', JobFactorsAnswers)\n",
    "\n",
    "df_full = df.copy(deep=True)\n",
    "#### drop all missing values from target column: \"job satisfaction\"\n",
    "df = prep.dropna_subset(df, 'Job_Satisfaction')\n",
    "# define a fixed index order for \"Job Satisfaction\"\n",
    "happy_index = ['Very satisfied', \n",
    "               'Slightly satisfied', \n",
    "               'Neither satisfied nor dissatisfied',\n",
    "               'Slightly dissatisfied', \n",
    "               'Very dissatisfied', \n",
    "               'not answered']"
   ]
  },
  {
   "cell_type": "markdown",
   "metadata": {},
   "source": [
    "# ...the Real Questions"
   ]
  },
  {
   "cell_type": "code",
   "execution_count": null,
   "metadata": {},
   "outputs": [],
   "source": []
  }
 ],
 "metadata": {
  "kernelspec": {
   "display_name": "Python 3.8.3 32-bit",
   "language": "python",
   "name": "python38332bit9505451eb6424bef863e7b16377c3eb0"
  },
  "language_info": {
   "codemirror_mode": {
    "name": "ipython",
    "version": 3
   },
   "file_extension": ".py",
   "mimetype": "text/x-python",
   "name": "python",
   "nbconvert_exporter": "python",
   "pygments_lexer": "ipython3",
   "version": "3.8.3"
  }
 },
 "nbformat": 4,
 "nbformat_minor": 4
}
